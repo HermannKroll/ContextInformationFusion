{
 "cells": [
  {
   "cell_type": "code",
   "execution_count": 1,
   "outputs": [
    {
     "name": "stdout",
     "text": [
      "connected\n"
     ],
     "output_type": "stream"
    }
   ],
   "source": [
    "import psycopg2\n",
    "\n",
    "pg_cred = {\n",
    "  \"POSTGRES_DB\":   \"\",\n",
    "  \"POSTGRES_HOST\" : \"\",\n",
    "  \"POSTGRES_PORT\" : \"\",\n",
    "  \"POSTGRES_USER\" : \"\",\n",
    "  \"POSTGRES_PW\" :  \"\"\n",
    "}\n",
    "\n",
    "connection_str = \"dbname='{}' user='{}' host='{}' port='{}' password='{}'\".format(\n",
    "        pg_cred[\"POSTGRES_DB\"],\n",
    "        pg_cred[\"POSTGRES_USER\"],\n",
    "        pg_cred[\"POSTGRES_HOST\"],\n",
    "        pg_cred[\"POSTGRES_PORT\"],\n",
    "        pg_cred[\"POSTGRES_PW\"])\n",
    "\n",
    "conn = psycopg2.connect(connection_str)\n",
    "print('connected')"
   ],
   "metadata": {
    "collapsed": false,
    "pycharm": {
     "name": "#%%\n",
     "is_executing": false
    }
   }
  },
  {
   "cell_type": "code",
   "execution_count": 2,
   "outputs": [],
   "source": [
    "# only causes with at least 3 occurrences\n",
    "mv_cause = \"mv_cause_2\"\n",
    "mv_ddi_gen = \"mv_ddi_gen\"\n",
    "mv_ddi_function = \"mv_ddi_function\"\n",
    "\n",
    "\n",
    "query_cause = \"SELECT pmid, subject_cui, object_cui FROM {}\".format(mv_cause)\n",
    "query_ddi_gen = \"SELECT pmid, subject_cui, object_cui FROM {} \".format(mv_ddi_gen)\n",
    "query_ddi_gen_1_dg = \"SELECT pmid, subject_cui, object_cui FROM {} WHERE (object_semtype = 'gngm' OR object_semtype = 'aapp') AND (subject_semtype = 'clnd' OR subject_semtype = 'phsu' OR subject_semtype ='sbst')\".format(mv_ddi_gen)\n",
    "query_ddi_gen_2_gd = \"SELECT pmid, subject_cui, object_cui FROM {} WHERE (subject_semtype = 'gngm' OR subject_semtype = 'aapp') AND (object_semtype = 'clnd' OR object_semtype = 'phsu' OR object_semtype ='sbst')\".format(mv_ddi_gen)\n",
    "\n",
    "\n",
    "query_ddi_function_1_dg = \"SELECT pmid, subject_cui, object_cui FROM {} WHERE (object_semtype = 'gngm' OR object_semtype = 'aapp') AND (subject_semtype = 'clnd' OR subject_semtype = 'phsu' OR subject_semtype ='sbst')\".format(mv_ddi_function)\n",
    "query_ddi_function_2_gf = \"SELECT pmid, subject_cui, object_cui FROM {} WHERE \\\n",
    "(subject_semtype = 'gngm' OR subject_semtype = 'aapp') AND \\\n",
    "(object_semtype = 'biof' OR object_semtype = 'phsf' OR object_semtype ='orgf' OR object_semtype = 'menp' \\\n",
    "OR object_semtype = 'ortf' OR object_semtype = 'celf' OR object_semtype ='moft' OR object_semtype = 'genf' \\\n",
    "OR object_semtype = 'patf' OR object_semtype = 'dsyn' OR object_semtype = 'mobd' OR object_semtype = 'neop' \\\n",
    "OR object_semtype = 'comd' OR object_semtype = 'emod')\".format(mv_ddi_function)\n",
    "\n",
    "query_cause_correct = \"SELECT pmid, subject_cui, object_cui FROM {}\".format(mv_cause)\n",
    "query_ddi_correct = \"SELECT '0', d1, d2 FROM mv_ddi_correct\""
   ],
   "metadata": {
    "collapsed": false,
    "pycharm": {
     "name": "#%%\n",
     "is_executing": false
    }
   }
  },
  {
   "cell_type": "markdown",
   "source": [
    "# Usage of Knowledge Graph "
   ],
   "metadata": {
    "collapsed": false
   }
  },
  {
   "cell_type": "code",
   "execution_count": 3,
   "outputs": [],
   "source": [
    "from model.knowledgegraph import kg_derive_facts, kg_verify_facts, load_kg_facts"
   ],
   "metadata": {
    "collapsed": false,
    "pycharm": {
     "name": "#%%\n",
     "is_executing": false
    }
   }
  },
  {
   "cell_type": "markdown",
   "source": [
    "## Cause Experiment"
   ],
   "metadata": {
    "collapsed": false
   }
  },
  {
   "cell_type": "code",
   "execution_count": 4,
   "outputs": [
    {
     "name": "stdout",
     "text": [
      "load facts from semmeddb and building index...\n",
      "deriving new facts...\n",
      "verifying facts in semmeddb...\n",
      "SELECT pmid, subject_cui, object_cui FROM mv_cause_2\n",
      "95037 of 7978099 derived facts are correct\n"
     ],
     "output_type": "stream"
    }
   ],
   "source": [
    "print('load facts from semmeddb and building index...')\n",
    "cause_idx_subjects, cause_idx_objects = load_kg_facts(conn, query_cause)\n",
    "print('deriving new facts...')\n",
    "cause_results, cause_res_amounts = kg_derive_facts(cause_idx_subjects, cause_idx_objects)\n",
    "print('verifying facts in semmeddb...')\n",
    "print(query_cause_correct)\n",
    "cause_correct = kg_verify_facts(cause_idx_subjects, cause_results)\n",
    "\n",
    "print('{} of {} derived facts are correct'.format(cause_correct, cause_res_amounts))\n",
    "cause_idx_subjects = None\n",
    "cause_idx_objects = None\n",
    "cause_results = None\n",
    "\n",
    "# Gold Standard: 95037 of 7978099 derived facts are correct (verfied by semmed)"
   ],
   "metadata": {
    "collapsed": false,
    "pycharm": {
     "name": "#%%\n",
     "is_executing": false
    }
   }
  },
  {
   "cell_type": "markdown",
   "source": [
    "## DDI Gene Experiment"
   ],
   "metadata": {
    "collapsed": false
   }
  },
  {
   "cell_type": "code",
   "execution_count": 5,
   "outputs": [
    {
     "name": "stdout",
     "text": [
      "load facts from semmeddb and building index...\n",
      "deriving new facts...\n",
      "753899 results\n",
      "loading correct interactions from semmed...\n",
      "verifying facts in semmeddb...\n",
      "derived 55370 of 753899 derived facts are correct\n"
     ],
     "output_type": "stream"
    }
   ],
   "source": [
    "print('load facts from semmeddb and building index...')\n",
    "_, ddi_gen_idx_objects = load_kg_facts(conn, query_ddi_gen_1_dg)\n",
    "ddi_gen_idx_subjects, _ = load_kg_facts(conn, query_ddi_gen_2_gd)\n",
    "\n",
    "print('deriving new facts...')\n",
    "ddi_gen_results, ddi_gen_res_amounts = kg_derive_facts(ddi_gen_idx_subjects, ddi_gen_idx_objects)\n",
    "\n",
    "print('{} results'.format(ddi_gen_res_amounts))\n",
    "print('loading correct interactions from semmed...')\n",
    "ddi_gen_idx_subjects_correct, _ = load_kg_facts(conn, query_ddi_correct)\n",
    "\n",
    "print('verifying facts in semmeddb...')\n",
    "ddi_gen_correct = kg_verify_facts(ddi_gen_idx_subjects_correct, ddi_gen_results)\n",
    "\n",
    "print('derived {} of {} derived facts are correct'.format(ddi_gen_correct, ddi_gen_res_amounts))\n",
    "ddi_gen_idx_subjects = None\n",
    "ddi_gen_idx_objects = None\n",
    "ddi_gen_results = None\n",
    "ddi_gen_idx_subjects_correct = None\n",
    "\n",
    "# 55370 of 753899 derived facts are correct (verified by semmeddb)"
   ],
   "metadata": {
    "collapsed": false,
    "pycharm": {
     "name": "#%%\n",
     "is_executing": false
    }
   }
  },
  {
   "cell_type": "markdown",
   "source": [
    "## DDI Function Experiment"
   ],
   "metadata": {
    "collapsed": false
   }
  },
  {
   "cell_type": "code",
   "execution_count": 6,
   "outputs": [
    {
     "name": "stdout",
     "text": [
      "load facts from semmeddb and building index...\n",
      "deriving new facts drug-gene-function ...\n",
      "6831917 facts derived\n",
      "deriving new facts drug-gene-function-gene-drug ...\n",
      "18685416 facts derived\n",
      "loading correct interactions from semmed...\n",
      "verifying facts in semmeddb...\n",
      "148346 of 18685416 derived facts are correct\n"
     ],
     "output_type": "stream"
    }
   ],
   "source": [
    "print('load facts from semmeddb and building index...')\n",
    "_, ddi_f_dg_idx_o = load_kg_facts(conn, query_ddi_function_1_dg)\n",
    "ddi_f_gf_idx_s, _ = load_kg_facts(conn, query_ddi_function_2_gf)\n",
    "\n",
    "\n",
    "print('deriving new facts drug-gene-function ...')\n",
    "_, ddi_f_t1_df_o, t1_len = kg_derive_facts(ddi_f_gf_idx_s, ddi_f_dg_idx_o, compute_o_idx=True)\n",
    "print('{} facts derived'.format(t1_len))\n",
    "\n",
    "print('deriving new facts drug-gene-function-gene-drug ...')\n",
    "# drug is in both cases the object\n",
    "ddi_f_res, ddi_f_res_len = kg_derive_facts(ddi_f_t1_df_o, ddi_f_t1_df_o)\n",
    "print('{} facts derived'.format(ddi_f_res_len))\n",
    "\n",
    "print('loading correct interactions from semmed...')\n",
    "ddi_gen_idx_subjects_correct, _ = load_kg_facts(conn, query_ddi_correct)\n",
    "\n",
    "print('verifying facts in semmeddb...')\n",
    "ddi_f_correct = kg_verify_facts(ddi_gen_idx_subjects_correct, ddi_f_res)\n",
    "print('{} of {} derived facts are correct'.format(ddi_f_correct, ddi_f_res_len))\n",
    "\n",
    "\n",
    "ddi_f_dg_idx_o = None\n",
    "ddi_f_gf_idx_s = None\n",
    "ddi_f_t1_df = None\n",
    "ddi_f_res = None\n",
    "ddi_gen_idx_subjects_correct = None\n",
    "\n",
    "#  148346 of 18685424 derived facts are correct (verified by semmeddb)"
   ],
   "metadata": {
    "collapsed": false,
    "pycharm": {
     "name": "#%%\n",
     "is_executing": false
    }
   }
  },
  {
   "cell_type": "markdown",
   "source": [
    "# Library Graph"
   ],
   "metadata": {
    "collapsed": false
   }
  },
  {
   "cell_type": "code",
   "execution_count": 7,
   "outputs": [],
   "source": [
    "from model.librarygraph import derive_facts_with_context, load_lg_facts\n",
    "from model.experiments import do_cause_experiment_with_context, do_ddi_gene_experiment_with_context, do_ddi_function_experiment_with_context"
   ],
   "metadata": {
    "collapsed": false,
    "pycharm": {
     "name": "#%%\n",
     "is_executing": false
    }
   }
  },
  {
   "cell_type": "markdown",
   "source": [
    "## Cause Experiment\n"
   ],
   "metadata": {
    "collapsed": false
   }
  },
  {
   "cell_type": "code",
   "execution_count": 8,
   "outputs": [
    {
     "name": "stdout",
     "text": [
      "load facts from semmeddb and building index...\n",
      "load facts from semmeddb and building index...\n",
      "deriving new facts...\n",
      "11478 facts derived\n",
      "verifying facts in semmeddb...\n",
      "5544 of 11478 derived facts are correct\n"
     ],
     "output_type": "stream"
    }
   ],
   "source": [
    "print('load facts from semmeddb and building index...')\n",
    "idx_pmid = load_lg_facts(conn, query_cause)\n",
    "\n",
    "print('load facts from semmeddb and building index...')\n",
    "cause_idx_subjects, _ = load_kg_facts(conn, query_cause)\n",
    "\n",
    "\n",
    "do_cause_experiment_with_context(idx_pmid, cause_idx_subjects)\n",
    "del idx_pmid\n",
    "del cause_idx_subjects\n",
    "# Gold Standard: 5544 of 11478 derived facts are correct (verfied by semmed)"
   ],
   "metadata": {
    "collapsed": false,
    "pycharm": {
     "name": "#%%\n",
     "is_executing": false
    }
   }
  },
  {
   "cell_type": "markdown",
   "source": [
    "## DDI Gene Experiment\n"
   ],
   "metadata": {
    "collapsed": false
   }
  },
  {
   "cell_type": "code",
   "execution_count": 9,
   "outputs": [
    {
     "name": "stdout",
     "text": [
      "load facts from semmeddb and building index...\n",
      "loading correct interactions from semmed...\n",
      "deriving new facts...\n",
      "1311 facts derived\n",
      "verifying facts in semmeddb...\n",
      "derived 909 of 1311 derived facts are correct\n"
     ],
     "output_type": "stream"
    }
   ],
   "source": [
    "print('load facts from semmeddb and building index...')\n",
    "idx_pmid_dg = load_lg_facts(conn, query_ddi_gen_1_dg)\n",
    "idx_pmid_gd = load_lg_facts(conn, query_ddi_gen_2_gd)\n",
    "print('loading correct interactions from semmed...')\n",
    "ddi_gen_idx_subjects_correct, _ = load_kg_facts(conn, query_ddi_correct)\n",
    "\n",
    "\n",
    "do_ddi_gene_experiment_with_context(idx_pmid_dg, idx_pmid_gd, ddi_gen_idx_subjects_correct)\n",
    "\n",
    "del idx_pmid_dg\n",
    "del idx_pmid_gd\n",
    "# 909 of of 1311 derived facts are correct (verified by semmeddb)"
   ],
   "metadata": {
    "collapsed": false,
    "pycharm": {
     "name": "#%%\n",
     "is_executing": false
    }
   }
  },
  {
   "cell_type": "markdown",
   "source": [
    "## DDI Function Experiment"
   ],
   "metadata": {
    "collapsed": false
   }
  },
  {
   "cell_type": "code",
   "execution_count": 10,
   "outputs": [
    {
     "name": "stdout",
     "text": [
      "load facts from semmeddb and building index...\n",
      "loading correct interactions from semmed...\n",
      "deriving new facts drug-gene-function-gene-drug ...\n",
      "2138 facts derived\n",
      "verifying facts in semmeddb...\n",
      "1352 of 2138 derived facts are correct\n"
     ],
     "output_type": "stream"
    }
   ],
   "source": [
    "print('load facts from semmeddb and building index...')\n",
    "idx_pmid_dg = load_lg_facts(conn, query_ddi_function_1_dg)\n",
    "idx_pmid_gf = load_lg_facts(conn, query_ddi_function_2_gf)\n",
    "print('loading correct interactions from semmed...')\n",
    "ddi_gen_idx_subjects_correct, _ = load_kg_facts(conn, query_ddi_correct)\n",
    "\n",
    "\n",
    "do_ddi_function_experiment_with_context(idx_pmid_dg, idx_pmid_gf, ddi_gen_idx_subjects_correct)\n",
    "\n",
    "del idx_pmid_dg\n",
    "del idx_pmid_gf\n",
    "del ddi_gen_idx_subjects_correct\n",
    "# 1352 of 2138 derived facts are correct (verified by semmeddb)"
   ],
   "metadata": {
    "collapsed": false,
    "pycharm": {
     "name": "#%%\n",
     "is_executing": false
    }
   }
  }
 ],
 "metadata": {
  "kernelspec": {
   "display_name": "Python 3",
   "language": "python",
   "name": "python3"
  },
  "language_info": {
   "codemirror_mode": {
    "name": "ipython",
    "version": 3
   },
   "file_extension": ".py",
   "mimetype": "text/x-python",
   "name": "python",
   "nbconvert_exporter": "python",
   "pygments_lexer": "ipython3",
   "version": "3.6.9"
  },
  "pycharm": {
   "stem_cell": {
    "cell_type": "raw",
    "source": [],
    "metadata": {
     "collapsed": false
    }
   }
  }
 },
 "nbformat": 4,
 "nbformat_minor": 2
}